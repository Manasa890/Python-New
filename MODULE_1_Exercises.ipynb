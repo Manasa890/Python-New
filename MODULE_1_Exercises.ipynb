{
  "nbformat": 4,
  "nbformat_minor": 0,
  "metadata": {
    "colab": {
      "name": "MODULE 1 Exercises.ipynb",
      "provenance": [],
      "collapsed_sections": [],
      "authorship_tag": "ABX9TyM4Mp5XYmhbYl7RXNv8RUJz",
      "include_colab_link": true
    },
    "kernelspec": {
      "name": "python3",
      "display_name": "Python 3"
    },
    "language_info": {
      "name": "python"
    }
  },
  "cells": [
    {
      "cell_type": "markdown",
      "metadata": {
        "id": "view-in-github",
        "colab_type": "text"
      },
      "source": [
        "<a href=\"https://colab.research.google.com/github/Manasa890/Python-New/blob/main/MODULE_1_Exercises.ipynb\" target=\"_parent\"><img src=\"https://colab.research.google.com/assets/colab-badge.svg\" alt=\"Open In Colab\"/></a>"
      ]
    },
    {
      "cell_type": "code",
      "execution_count": null,
      "metadata": {
        "id": "xYc3COVlYiNl",
        "colab": {
          "base_uri": "https://localhost:8080/"
        },
        "outputId": "66f8de8e-f692-4e43-dbf5-557e016ce312"
      },
      "outputs": [
        {
          "output_type": "stream",
          "name": "stdout",
          "text": [
            "Enter the value 89\n",
            "89\n"
          ]
        }
      ],
      "source": [
        "# Accept input from user and store it in variable and print the value\n",
        "a=int(input(\"Enter the value\"))\n",
        "print(a)"
      ]
    },
    {
      "cell_type": "code",
      "source": [
        "# Use of print statements and use of (.format )for printing different data types.\n",
        "price=150\n",
        "quantity=3 \n",
        "item=1\n",
        "name=\"Thumbsup\"\n",
        "myorder=\"I bought {3} with {0} having {1} and purchased {2}\"\n",
        "print(myorder.format(price,quantity,item,name))\n"
      ],
      "metadata": {
        "id": "jxi5cqA4fAcK",
        "colab": {
          "base_uri": "https://localhost:8080/"
        },
        "outputId": "c4dc4897-051e-4387-f6df-3e0c58e0af58"
      },
      "execution_count": null,
      "outputs": [
        {
          "output_type": "stream",
          "name": "stdout",
          "text": [
            "I bought Thumbsup with 150 having 3 and purchased 1\n"
          ]
        }
      ]
    },
    {
      "cell_type": "code",
      "source": [
        "import builtins\n",
        "# Take 2 numbers as user input and add, multiply, divide, subtract, remainder and print the output using int\n",
        "a=int(input(\"Enter the value\"))\n",
        "b=int(input(\"Enter the value\"))\n",
        "add=a+b\n",
        "print(add)\n",
        "subtract=a-b\n",
        "print(subtract)\n",
        "multiply=a*b\n",
        "print(multiply )\n",
        "divide=a/b\n",
        "print(divide)\n",
        "rem=a%b\n",
        "print(rem)"
      ],
      "metadata": {
        "colab": {
          "base_uri": "https://localhost:8080/"
        },
        "id": "xIACziW0fe7D",
        "outputId": "648e654d-f483-4b6d-ec56-33feba58112c"
      },
      "execution_count": null,
      "outputs": [
        {
          "output_type": "stream",
          "name": "stdout",
          "text": [
            "Enter the value 67\n",
            "Enter the value 89\n",
            "156\n",
            "-22\n",
            "5963\n",
            "0.7528089887640449\n",
            "67\n"
          ]
        }
      ]
    },
    {
      "cell_type": "code",
      "source": [
        " #  Take 2 numbers as user input and add, multiply, divide, subtract, remainder and print the output using float\n",
        "a=float(input(\"Enter the value\")) \n",
        "b=float(input(\"Enter the value\"))\n",
        "add=a+b\n",
        "print(add)\n",
        "subtract=a-b\n",
        "print(subtract)\n",
        "multiply=a*b\n",
        "print(multiply )\n",
        "divide=a/b\n",
        "print(divide)\n",
        "rem=a%b\n",
        "print(rem)\n"
      ],
      "metadata": {
        "colab": {
          "base_uri": "https://localhost:8080/"
        },
        "id": "NclEXedthHQz",
        "outputId": "febb8fdd-e2c4-4ca7-d591-e62a969e7074"
      },
      "execution_count": null,
      "outputs": [
        {
          "output_type": "stream",
          "name": "stdout",
          "text": [
            "Enter the value 88\n",
            "Enter the value 66\n",
            "154.0\n",
            "22.0\n",
            "5808.0\n",
            "1.3333333333333333\n",
            "22.0\n"
          ]
        }
      ]
    },
    {
      "cell_type": "code",
      "source": [
        "# Conversion of one unit to another (such as hours to minutes, miles to km and etc)\n",
        "a=float(input(\"enter hours\"))\n",
        "print(\"minutes are= \",a*60)\n",
        "b=float(input(\"enter miles\"))\n",
        "print(\"km ko are= \",b*1.6)"
      ],
      "metadata": {
        "colab": {
          "base_uri": "https://localhost:8080/"
        },
        "id": "GG4t8lgAhtWz",
        "outputId": "309ea379-a0b3-4fd1-bc19-5c6c19bb7811"
      },
      "execution_count": null,
      "outputs": [
        {
          "output_type": "stream",
          "name": "stdout",
          "text": [
            "enter hours5.0\n",
            "minutes are=  300.0\n",
            "enter miles6.0\n",
            "km are=  9.600000000000001\n"
          ]
        }
      ]
    },
    {
      "cell_type": "code",
      "source": [
        "# Usage of mathematical functions in python like math.ceil, floor, fabs, fmod, trunc, pow, sqrt etc.\n",
        "import math\n",
        "my_int=4.5678\n",
        "print(math.ceil(my_int))\n",
        "my_int=4.5678\n",
        "print(math.floor(my_int))\n",
        "my_int=4.5678\n",
        "print(math.fabs(my_int)) \n",
        "print(math.fmod(4.5678, 7.8976))\n",
        "my_int=4.5678\n",
        "print(math.trunc(my_int))\n",
        "print(math.pow(4.5678, 7.8976))\n",
        "my_int=4.5678\n",
        "print(math.sqrt(my_int))\n"
      ],
      "metadata": {
        "colab": {
          "base_uri": "https://localhost:8080/"
        },
        "id": "86RXv-mYiXNU",
        "outputId": "e163a4b3-144b-4547-c4ee-6a0412ed0459"
      },
      "execution_count": null,
      "outputs": [
        {
          "output_type": "stream",
          "name": "stdout",
          "text": [
            "5\n",
            "4\n",
            "4.5678\n",
            "4.5678\n",
            "4\n",
            "162219.3423504213\n",
            "2.1372412124044398\n"
          ]
        }
      ]
    },
    {
      "cell_type": "code",
      "source": [
        "# Building a mathematical calculator that can perform operations according to user input. Use decision making statement.\n",
        "# This function adds two numbers\n",
        "def add(x, y):\n",
        "    return x + y\n",
        "\n",
        "# This function subtracts two numbers\n",
        "def subtract(x, y):\n",
        "    return x - y\n",
        "\n",
        "# This function multiplies two numbers\n",
        "def multiply(x, y):\n",
        "    return x * y\n",
        "\n",
        "# This function divides two numbers\n",
        "def divide(x, y):\n",
        "    return x / y\n",
        "\n",
        "\n",
        "print(\"Select operation.\")\n",
        "print(\"1.Add\")\n",
        "print(\"2.Subtract\")\n",
        "print(\"3.Multiply\")\n",
        "print(\"4.Divide\")\n",
        "\n",
        "while True:\n",
        "    # take input from the user\n",
        "    choice = input(\"Enter choice(1/2/3/4): \")\n",
        "\n",
        "    # check if choice is one of the four options\n",
        "    if choice in ('1', '2', '3', '4'):\n",
        "        num1 = float(input(\"Enter first number: \"))\n",
        "        num2 = float(input(\"Enter second number: \"))\n",
        "\n",
        "        if choice == '1':\n",
        "            print(num1, \"+\", num2, \"=\", add(num1, num2))\n",
        "\n",
        "        elif choice == '2':\n",
        "            print(num1, \"-\", num2, \"=\", subtract(num1, num2))\n",
        "\n",
        "        elif choice == '3':\n",
        "            print(num1, \"*\", num2, \"=\", multiply(num1, num2))\n",
        "\n",
        "        elif choice == '4':\n",
        "            print(num1, \"/\", num2, \"=\", divide(num1, num2))\n",
        "        \n",
        "        # check if user wants another calculation\n",
        "        # break the while loop if answer is no\n",
        "        next_calculation = input(\"Let's do next calculation? (yes/no): \")\n",
        "        if next_calculation == \"no\":\n",
        "          break\n",
        "    \n",
        "    else:\n",
        "        print(\"Invalid Input\")"
      ],
      "metadata": {
        "colab": {
          "base_uri": "https://localhost:8080/"
        },
        "id": "Xr_cIf2dl8Z1",
        "outputId": "1f7b09c6-7857-4e0e-f324-a9f3aee91e41"
      },
      "execution_count": null,
      "outputs": [
        {
          "name": "stdout",
          "output_type": "stream",
          "text": [
            "Select operation.\n",
            "1.Add\n",
            "2.Subtract\n",
            "3.Multiply\n",
            "4.Divide\n",
            "Enter choice(1/2/3/4):  4\n",
            "Invalid Input\n",
            "Enter choice(1/2/3/4): 4\n",
            "Enter first number:  67\n",
            "Enter second number:  78\n",
            "67.0 / 78.0 = 0.8589743589743589\n",
            "Let's do next calculation? (yes/no): No\n",
            "Enter choice(1/2/3/4):  4\n",
            "Invalid Input\n",
            "Enter choice(1/2/3/4): 4\n",
            "Enter first number: 67\n",
            "Enter second number:  89\n",
            "67.0 / 89.0 = 0.7528089887640449\n",
            "Let's do next calculation? (yes/no): no\n"
          ]
        }
      ]
    },
    {
      "cell_type": "code",
      "source": [
        "# Accepting 5 different subject marks from user and displaying the grade of the student\n",
        "a=int(input(\"Enter the cse marks\"))\n",
        "b=int(input(\"Enter the maths marks\"))\n",
        "c=int(input(\"Enter the english marks\"))\n",
        "d=int(input(\"Enter the chemistry marks\"))\n",
        "e=int(input(\"Enter the physics marks\"))\n",
        "average=(a+b+c+d+e)/5\n",
        "print(average)\n",
        "if average>90:\n",
        "\n",
        "  print(\"O grade\")\n",
        "\n",
        "elif 80<average<90:\n",
        "\n",
        "  print(\"A grade\")\n",
        "\n",
        "elif 70<average<80:\n",
        "\n",
        "  print(\"B grade\")\n",
        "\n",
        "elif 60<average<70:\n",
        "\n",
        "  print(\"C grade\")\n",
        "\n",
        "elif 50<average<60:\n",
        "\n",
        "  print(\"Pass\")\n",
        "\n",
        "else:\n",
        "\n",
        "  print(\"Fail\")\n",
        "  \n",
        "      \n",
        "\n",
        "\n"
      ],
      "metadata": {
        "colab": {
          "base_uri": "https://localhost:8080/"
        },
        "id": "kjTeqnFtnF9O",
        "outputId": "0e7d8f01-d242-4fcc-e633-609171a4117e"
      },
      "execution_count": null,
      "outputs": [
        {
          "output_type": "stream",
          "name": "stdout",
          "text": [
            "Enter the cse marks 89\n",
            "Enter the maths marks 54\n",
            "Enter the english marks 67\n",
            "Enter the chemistry marks 32\n",
            "Enter the physics marks 99\n",
            "68.2\n",
            "C grade\n"
          ]
        }
      ]
    },
    {
      "cell_type": "code",
      "source": [
        "# Printing all even numbers, odd numbers, count of even numbers, count of odd numbers within a given range.\n",
        "n=int(input(\"enter range \"))\n",
        "c=0\n",
        "for i in range(1,n+1):\n",
        " if i%2==0:\n",
        "   c+=1\n",
        "   print(i)\n",
        "\n",
        "print(\"even count is \",c)\n",
        "\n",
        "d=0\n",
        "for i in range(1,n+1):\n",
        "  if i%2!=0: \n",
        "    d+=1\n",
        "    print(i)\n",
        "\n",
        "print(\"odd count is \",d)\n"
      ],
      "metadata": {
        "colab": {
          "base_uri": "https://localhost:8080/"
        },
        "id": "v9dpsgNA1gEe",
        "outputId": "06831178-09ed-4cff-d1a2-198f2c58960e"
      },
      "execution_count": null,
      "outputs": [
        {
          "output_type": "stream",
          "name": "stdout",
          "text": [
            "enter range 20\n",
            "2\n",
            "4\n",
            "6\n",
            "8\n",
            "10\n",
            "12\n",
            "14\n",
            "16\n",
            "18\n",
            "20\n",
            "even count is  10\n",
            "1\n",
            "3\n",
            "5\n",
            "7\n",
            "9\n",
            "11\n",
            "13\n",
            "15\n",
            "17\n",
            "19\n",
            "odd count is  10\n"
          ]
        }
      ]
    },
    {
      "cell_type": "code",
      "source": [
        "# Compute the factorial of a given number.\n",
        "n=int(input(\"enter a number \"))\n",
        "fac=1\n",
        "for i in range(1,n+1):\n",
        "  fac=fac*i\n",
        "\n",
        "print(fac)\n"
      ],
      "metadata": {
        "colab": {
          "base_uri": "https://localhost:8080/"
        },
        "id": "hkkbKYmr1yE-",
        "outputId": "5b44c916-2ef1-4e9d-dc4c-dbc0c17c21ec"
      },
      "execution_count": null,
      "outputs": [
        {
          "output_type": "stream",
          "name": "stdout",
          "text": [
            "enter a number 6\n",
            "720\n"
          ]
        }
      ]
    },
    {
      "cell_type": "code",
      "source": [
        "# Compute GCD of two given \n",
        "a=int(input(\"enter a number\"))\n",
        "b=int(input(\"enter a number\"))\n",
        "k=a if a<b else b\n",
        "while True:\n",
        "    if a%k==0 and b%k==0:\n",
        "     break\n",
        "    k -=1\n",
        "print(k)\n"
      ],
      "metadata": {
        "colab": {
          "base_uri": "https://localhost:8080/"
        },
        "id": "kAfg3qnP1-Dy",
        "outputId": "1a98f993-f3eb-4526-aaa3-9bf75100d8be"
      },
      "execution_count": null,
      "outputs": [
        {
          "output_type": "stream",
          "name": "stdout",
          "text": [
            "enter a number60\n",
            "enter a number20\n",
            "20\n"
          ]
        }
      ]
    },
    {
      "cell_type": "code",
      "source": [
        "# Check whether the given input is palindrome\n",
        "def isPalindrome(s):\n",
        "\treturn s==s[::-1]\n",
        "s=input(\"enter the value\")\n",
        "ans=isPalindrome(s)\n",
        "if ans:\n",
        "\tprint(\"Yes\")\n",
        "else:\n",
        "\tprint(\"No\")"
      ],
      "metadata": {
        "colab": {
          "base_uri": "https://localhost:8080/"
        },
        "id": "mah2e-MesnlA",
        "outputId": "118d107c-906d-4b5a-8a2f-ef60e0fd2347"
      },
      "execution_count": null,
      "outputs": [
        {
          "output_type": "stream",
          "name": "stdout",
          "text": [
            "enter the value1002001\n",
            "Yes\n"
          ]
        }
      ]
    },
    {
      "cell_type": "code",
      "source": [
        "#Check whether the given input is strong number\n",
        "sum=0   \n",
        "num=int(input(\"Enter a number:\"))  \n",
        "temp=num  \n",
        "while(num): \n",
        "    i=1  \n",
        "    fact=1  \n",
        "    rem=num%10  \n",
        "    while(i<=rem):  \n",
        "        fact=fact*i\n",
        "        i=i+1  \n",
        "    sum=sum+fact  \n",
        "    num=num//10  \n",
        "if(sum==temp):  \n",
        "    print(\"Given number is a strong number\")  \n",
        "else:  \n",
        "    print(\"Given number is not a strong number\")"
      ],
      "metadata": {
        "colab": {
          "base_uri": "https://localhost:8080/"
        },
        "id": "Zwy3m23Asv8u",
        "outputId": "b6fd1c79-8d2d-44f4-92e3-70935af12cc9"
      },
      "execution_count": null,
      "outputs": [
        {
          "output_type": "stream",
          "name": "stdout",
          "text": [
            "Enter a number:2006\n",
            "Given number is not a strong number\n"
          ]
        }
      ]
    },
    {
      "cell_type": "code",
      "source": [
        "#Check whether the given input is perfect number\n",
        "n = int(input(\"Enter any number: \"))\n",
        "sum1 = 0\n",
        "for i in range(1, n):\n",
        "    if(n % i == 0):\n",
        "        sum1 = sum1 + i\n",
        "if (sum1 == n):\n",
        "    print(\"The number is a Perfect number!\")\n",
        "else:\n",
        "    print(\"The number is not a Perfect number!\")"
      ],
      "metadata": {
        "colab": {
          "base_uri": "https://localhost:8080/"
        },
        "id": "WTfnArybs5Mn",
        "outputId": "2baffa92-a730-4109-da5d-50b9eb1dd560"
      },
      "execution_count": null,
      "outputs": [
        {
          "output_type": "stream",
          "name": "stdout",
          "text": [
            "Enter any number: 275\n",
            "The number is not a Perfect number!\n"
          ]
        }
      ]
    },
    {
      "cell_type": "code",
      "source": [
        "#Compute compound interest using loop for a certain principal and interest amount\n",
        "n=int(input(\"Enter the principle amount:\"))\n",
        "rate=int(input(\"Enter the rate:\"))\n",
        "years=int(input(\"Enter the number of years:\"))\n",
        "for i in range(years):\n",
        "    n=n+((n*rate)/100)\n",
        "print(n)"
      ],
      "metadata": {
        "colab": {
          "base_uri": "https://localhost:8080/"
        },
        "id": "BXMKot40s-6j",
        "outputId": "efb8dd5f-d2e6-43b6-f7bf-398e492e2001"
      },
      "execution_count": null,
      "outputs": [
        {
          "output_type": "stream",
          "name": "stdout",
          "text": [
            "Enter the principle amount:100200\n",
            "Enter the rate:1\n",
            "Enter the number of years:3\n",
            "103236.1602\n"
          ]
        }
      ]
    }
  ]
}