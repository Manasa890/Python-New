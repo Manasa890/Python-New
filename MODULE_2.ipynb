{
  "nbformat": 4,
  "nbformat_minor": 0,
  "metadata": {
    "colab": {
      "name": "MODULE 2.ipynb",
      "provenance": [],
      "collapsed_sections": [],
      "authorship_tag": "ABX9TyOpZksu+ay/9h/P4QGc6QHo",
      "include_colab_link": true
    },
    "kernelspec": {
      "name": "python3",
      "display_name": "Python 3"
    },
    "language_info": {
      "name": "python"
    }
  },
  "cells": [
    {
      "cell_type": "markdown",
      "metadata": {
        "id": "view-in-github",
        "colab_type": "text"
      },
      "source": [
        "<a href=\"https://colab.research.google.com/github/Manasa890/Python-New/blob/main/MODULE_2.ipynb\" target=\"_parent\"><img src=\"https://colab.research.google.com/assets/colab-badge.svg\" alt=\"Open In Colab\"/></a>"
      ]
    },
    {
      "cell_type": "code",
      "execution_count": null,
      "metadata": {
        "colab": {
          "base_uri": "https://localhost:8080/"
        },
        "id": "lSl-2C7_otWe",
        "outputId": "f97d4b7c-87a3-4b94-8ff4-8ce680799f93"
      },
      "outputs": [
        {
          "output_type": "stream",
          "name": "stdout",
          "text": [
            " 8\n",
            " 9\n",
            "0\n"
          ]
        }
      ],
      "source": [
        "# Create a function which accepts two inputs from the user and compute nCr\n",
        "def nCr(a,b):\n",
        "  return(fact(a)/(fact(b)\n",
        "                *fact(a-b)))\n",
        "a=int(input(\"\"))\n",
        "b=int(input(\"\"))\n",
        "def fact(a):\n",
        "  res=1\n",
        "  for i in range (2,a+1):\n",
        "    res=res*i\n",
        "  return res\n",
        "print(int(nCr(a,b)))"
      ]
    },
    {
      "cell_type": "code",
      "source": [
        "# Program to print a specified list after removing the 0th, 4th and 5th elements.\n",
        "# Sample List : ['Red', 'Green', 'White', 'Black', 'Pink', 'Yellow']\n",
        "# Expected Output : ['Green', 'White', 'Black']\n",
        "Givenlist =['Red', 'Green', 'White', 'Black', 'Pink', 'Yellow']\n",
        "del Givenlist [0]\n",
        "del Givenlist [3]\n",
        "del Givenlist [3]\n",
        "print(Givenlist)\n"
      ],
      "metadata": {
        "colab": {
          "base_uri": "https://localhost:8080/"
        },
        "id": "Alocf64Lt_Qc",
        "outputId": "f4b79c94-67e5-46ff-b57b-5068bcdef690"
      },
      "execution_count": null,
      "outputs": [
        {
          "output_type": "stream",
          "name": "stdout",
          "text": [
            "['Green', 'White', 'Black']\n"
          ]
        }
      ]
    },
    {
      "cell_type": "code",
      "source": [
        "# Program to get the difference between the two lists\n",
        "a=[8,9,7,6,8,9,34,67,89]\n",
        "b=[67,8,9,8,6,5,78]\n",
        "x=set(a)\n",
        "y=set(b)\n",
        "print(x.difference(y))\n",
        "print(y.difference(x))"
      ],
      "metadata": {
        "id": "b5lhBmXwx3eZ",
        "colab": {
          "base_uri": "https://localhost:8080/"
        },
        "outputId": "4f50f68d-0b31-4100-de44-087076f2b6bb"
      },
      "execution_count": null,
      "outputs": [
        {
          "output_type": "stream",
          "name": "stdout",
          "text": [
            "{89, 34, 7}\n",
            "{5, 78}\n"
          ]
        }
      ]
    },
    {
      "cell_type": "code",
      "source": [
        "# Program to find the second smallest number and second largest number in a list.\n",
        "a=[45,78,90,43,12,89]\n",
        "a.sort()\n",
        "print(a)\n",
        "print(a[1])\n",
        "print(a[-2])"
      ],
      "metadata": {
        "colab": {
          "base_uri": "https://localhost:8080/"
        },
        "id": "ArTiSkWG2iJs",
        "outputId": "97f4e477-3558-4f20-93c3-6818042526b7"
      },
      "execution_count": null,
      "outputs": [
        {
          "output_type": "stream",
          "name": "stdout",
          "text": [
            "[12, 43, 45, 78, 89, 90]\n",
            "43\n",
            "89\n"
          ]
        }
      ]
    },
    {
      "cell_type": "code",
      "source": [
        "# Given a list of numbers of list, write a Python program to create a list of tuples\n",
        "# having first element as the number and second element as the square of the number\n",
        "Thelist=[78,9,34,12,90]\n",
        "total=[(x,x**2) for x in Thelist]\n",
        "print(\"Required list is: \",total)"
      ],
      "metadata": {
        "id": "fp2GtpCFCBM5",
        "colab": {
          "base_uri": "https://localhost:8080/"
        },
        "outputId": "f278deba-796b-4a90-faaf-ca1be046743f"
      },
      "execution_count": null,
      "outputs": [
        {
          "output_type": "stream",
          "name": "stdout",
          "text": [
            "Required list is:  [(78, 6084), (9, 81), (34, 1156), (12, 144), (90, 8100)]\n"
          ]
        }
      ]
    },
    {
      "cell_type": "code",
      "source": [
        "# Given list of tuples, remove all the tuples with length K.\n",
        "# Input : test_list = [(4, 5), (4, ), (8, 6, 7), (1, ), (3, 4, 6, 7)], K = 2 \n",
        "\n",
        "Givenlist = [(4, 5), (4, ), (8, 6, 7), (1, ), (3, 4, 6, 7)] \n",
        "new_list=[]\n",
        "K=2\n",
        "for x in Givenlist:\n",
        " if len(x)!=K:\n",
        "   new_list.append(x)\n",
        "print(\"Filtered list without having any element of tuple length '2' is: \",new_list)"
      ],
      "metadata": {
        "colab": {
          "base_uri": "https://localhost:8080/"
        },
        "id": "VKQMtUxHAiYt",
        "outputId": "34657b50-d019-478f-fcd3-1d90d229d177"
      },
      "execution_count": null,
      "outputs": [
        {
          "output_type": "stream",
          "name": "stdout",
          "text": [
            "Filtered list without having any element of tuple length '2' is:  [(4,), (8, 6, 7), (1,), (3, 4, 6, 7)]\n"
          ]
        }
      ]
    },
    {
      "cell_type": "code",
      "source": [
        "# Program to generate and print a dictionary that contains a number (between 1 and n) \n",
        "# in the form (x, x*x). \n",
        "n=int(input(\"Input a number \"))\n",
        "d = dict()\n",
        "for x in range(1,n+1):\n",
        "    d[x]=x*x\n",
        "print(d) "
      ],
      "metadata": {
        "colab": {
          "base_uri": "https://localhost:8080/"
        },
        "id": "Yz85psbRIZ5R",
        "outputId": "31f9a159-4406-432b-c70b-a10ebce29c87"
      },
      "execution_count": null,
      "outputs": [
        {
          "output_type": "stream",
          "name": "stdout",
          "text": [
            "Input a number 5\n",
            "{1: 1, 2: 4, 3: 9, 4: 16, 5: 25}\n"
          ]
        }
      ]
    },
    {
      "cell_type": "code",
      "source": [
        "# Program to remove a key from a dictionary\n",
        "d={'car':'BMW', 'colour':'black', 'carno':'9999'}\n",
        "d.pop('colour')\n",
        "print(d)"
      ],
      "metadata": {
        "colab": {
          "base_uri": "https://localhost:8080/"
        },
        "id": "W1BfkJOjFyt2",
        "outputId": "73e3afd5-ffb0-468f-b6f3-599fcaa8d6fa"
      },
      "execution_count": null,
      "outputs": [
        {
          "output_type": "stream",
          "name": "stdout",
          "text": [
            "{'car': 'BMW', 'carno': '9999'}\n"
          ]
        }
      ]
    },
    {
      "cell_type": "code",
      "source": [
        "# Program to get the maximum and minimum value in a dictionary\n",
        "my_dict = {'x':500, 'y':5874, 'z': 560}\n",
        "key_max = max(my_dict.keys(), key=(lambda k: my_dict[k]))\n",
        "key_min = min(my_dict.keys(), key=(lambda k: my_dict[k]))\n",
        "print('Maximum Value is ',my_dict[key_max])\n",
        "print('Minimum Value is ',my_dict[key_min])"
      ],
      "metadata": {
        "colab": {
          "base_uri": "https://localhost:8080/"
        },
        "id": "lhOHjgLmHQTz",
        "outputId": "f978a1cb-47a5-4b02-d0ca-d6e1521d4f0f"
      },
      "execution_count": null,
      "outputs": [
        {
          "output_type": "stream",
          "name": "stdout",
          "text": [
            "Maximum Value is  5874\n",
            "Minimum Value is  500\n"
          ]
        }
      ]
    },
    {
      "cell_type": "code",
      "source": [
        "# Program to perform operations on string using unicodes ,splitting of string,accessing elements of string using locations\n",
        "string=\"Python, Clanguage\"\n",
        "print(string.split())\n",
        "print(string[5])"
      ],
      "metadata": {
        "id": "HAOpZU9OI9H_",
        "outputId": "7af0948c-e16c-4aed-efca-8c5b34a3423f",
        "colab": {
          "base_uri": "https://localhost:8080/"
        }
      },
      "execution_count": null,
      "outputs": [
        {
          "output_type": "stream",
          "name": "stdout",
          "text": [
            "['Python,', 'Clanguage']\n",
            "n\n"
          ]
        }
      ]
    },
    {
      "cell_type": "code",
      "source": [
        "# Program for Counting occurrence of a certain element in a string, getting indexes that have matching elements \n",
        "a=\"My name is Manasa\"\n",
        "ele=\"a\"\n",
        "count=0\n",
        "for i in a:\n",
        "  if i==ele:\n",
        "    count+=1\n",
        "print(count)"
      ],
      "metadata": {
        "id": "YAReYb6MLgH-",
        "colab": {
          "base_uri": "https://localhost:8080/"
        },
        "outputId": "ce7f3d0d-7c09-458b-9162-9e2ebe698d59"
      },
      "execution_count": null,
      "outputs": [
        {
          "output_type": "stream",
          "name": "stdout",
          "text": [
            "4\n"
          ]
        }
      ]
    },
    {
      "cell_type": "code",
      "source": [
        "# Program for replacing one substring by another\n",
        "a=\"RRR has been released\"\n",
        "print(a.replace(\"RRR\",\"KGF\"))"
      ],
      "metadata": {
        "colab": {
          "base_uri": "https://localhost:8080/"
        },
        "id": "HEVpJzgaSqm-",
        "outputId": "4aaf0f40-4d0e-443d-c6b9-991cb0bb82f1"
      },
      "execution_count": null,
      "outputs": [
        {
          "output_type": "stream",
          "name": "stdout",
          "text": [
            "KGF has been released\n"
          ]
        }
      ]
    },
    {
      "cell_type": "code",
      "source": [
        "# Program to Acronym generator for any user input\n",
        "a=\"Andhra Pradesh State Road Transport Corporation\"\n",
        "acr=\"\"\n",
        "for x in a:\n",
        "  if x.isupper():\n",
        "    acr=acr+x\n",
        "print(acr)"
      ],
      "metadata": {
        "colab": {
          "base_uri": "https://localhost:8080/"
        },
        "id": "xThi6XXJUWQx",
        "outputId": "bd81120d-b862-4380-a24f-ea0e8d6fb463"
      },
      "execution_count": null,
      "outputs": [
        {
          "output_type": "stream",
          "name": "stdout",
          "text": [
            "APSRTC\n"
          ]
        }
      ]
    },
    {
      "cell_type": "code",
      "source": [
        "# Python function that accepts a string and calculates the number of uppercase letters and lowercase letters\n",
        "a=\"My name is Manasa\"\n",
        "upper=0\n",
        "lower=0\n",
        "for x in a:\n",
        "  if x.isupper():\n",
        "    upper=upper+1\n",
        "  elif x.islower():\n",
        "    lower=lower+1\n",
        "  else:\n",
        "    pass\n",
        "print(\"No of upper case letters are:\",upper)\n",
        "print(\"No of lower case letters are:\",lower)"
      ],
      "metadata": {
        "colab": {
          "base_uri": "https://localhost:8080/"
        },
        "id": "nXkrwyi5VaqK",
        "outputId": "f8aadf16-876f-4ba3-9656-7c20ef06eb5a"
      },
      "execution_count": null,
      "outputs": [
        {
          "output_type": "stream",
          "name": "stdout",
          "text": [
            "No of upper case letters are: 2\n",
            "No of lower case letters are: 12\n"
          ]
        }
      ]
    },
    {
      "cell_type": "code",
      "source": [
        "# Program to count the number of strings where the string length is 2 or more and the first and last character are same from a given list of strings \n",
        "p=['abc', 'xyz', 'aba', '1221']\n",
        "count=0\n",
        "for x in p:\n",
        "  if len(x)>1 and x[0]==x[-1]:\n",
        "    print(\"The string we want:\",x)\n",
        "    count+=1\n",
        "print(\"The number of strings with given conditions are:\",count)"
      ],
      "metadata": {
        "colab": {
          "base_uri": "https://localhost:8080/"
        },
        "id": "ynkzLxghWV-S",
        "outputId": "5a16598c-a73e-4e5f-8599-f52d99e99b69"
      },
      "execution_count": null,
      "outputs": [
        {
          "output_type": "stream",
          "name": "stdout",
          "text": [
            "The string we want: aba\n",
            "The string we want: 1221\n",
            "The number of strings with given conditions are: 2\n"
          ]
        }
      ]
    }
  ]
}