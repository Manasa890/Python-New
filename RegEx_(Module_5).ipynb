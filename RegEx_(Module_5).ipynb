{
  "nbformat": 4,
  "nbformat_minor": 0,
  "metadata": {
    "colab": {
      "name": "RegEx (Module-5)",
      "provenance": [],
      "authorship_tag": "ABX9TyMbKOA9cXYLJF7fvdRoOGQq",
      "include_colab_link": true
    },
    "kernelspec": {
      "name": "python3",
      "display_name": "Python 3"
    },
    "language_info": {
      "name": "python"
    }
  },
  "cells": [
    {
      "cell_type": "markdown",
      "metadata": {
        "id": "view-in-github",
        "colab_type": "text"
      },
      "source": [
        "<a href=\"https://colab.research.google.com/github/Manasa890/Python-New/blob/Module-5/RegEx_(Module_5).ipynb\" target=\"_parent\"><img src=\"https://colab.research.google.com/assets/colab-badge.svg\" alt=\"Open In Colab\"/></a>"
      ]
    },
    {
      "cell_type": "code",
      "execution_count": null,
      "metadata": {
        "colab": {
          "base_uri": "https://localhost:8080/"
        },
        "id": "VYjuZOisJcAl",
        "outputId": "2691b28c-bea7-4ff3-cb25-6081a787b38d"
      },
      "outputs": [
        {
          "output_type": "stream",
          "name": "stdout",
          "text": [
            "No I am not studying in GITAM\n"
          ]
        }
      ],
      "source": [
        "import re\n",
        "text = \"I am Manasa, studying in GITAM, Branch Core CSE\"\n",
        "x = re.search(\"^I.*studying$\",text)\n",
        "if x:\n",
        "  print(\"YES! I am also studying in GITAM\")\n",
        "else:\n",
        "  print(\"No I am not studying in GITAM\")"
      ]
    },
    {
      "cell_type": "code",
      "source": [
        "# Findall function\n",
        "import re\n",
        "text = \"Time is very much valuable in our life, each and every second is very much valuable\"\n",
        "x = re.findall(\"is\",text)\n",
        "print(x)"
      ],
      "metadata": {
        "colab": {
          "base_uri": "https://localhost:8080/"
        },
        "id": "mIeTfFNBMFNc",
        "outputId": "5b510b1c-a8b3-4c88-e48c-228fc65856f8"
      },
      "execution_count": 18,
      "outputs": [
        {
          "output_type": "stream",
          "name": "stdout",
          "text": [
            "['is', 'is']\n"
          ]
        }
      ]
    },
    {
      "cell_type": "code",
      "source": [
        "# Findall function if not found\n",
        "import re\n",
        "text = \"Time is very much valuable in our life, each and every second is very much valuable\"\n",
        "x = re.findall(\"no\",text)\n",
        "print(x)"
      ],
      "metadata": {
        "colab": {
          "base_uri": "https://localhost:8080/"
        },
        "id": "NmMv3YhtMuhd",
        "outputId": "4de1244e-8a45-4a5a-bc0d-731c1e236466"
      },
      "execution_count": null,
      "outputs": [
        {
          "output_type": "stream",
          "name": "stdout",
          "text": [
            "[]\n"
          ]
        }
      ]
    },
    {
      "cell_type": "code",
      "source": [
        "# Findall function [arn]\n",
        "import re\n",
        "text = \"Time is very much valuable in our life, each and every second is very much valuable\"\n",
        "x = re.findall(\"[arn]\",text)\n",
        "print(x)"
      ],
      "metadata": {
        "colab": {
          "base_uri": "https://localhost:8080/"
        },
        "id": "PKjLGF2hM-vB",
        "outputId": "5aa9cad6-65e0-4f68-df3e-30b12057aeb4"
      },
      "execution_count": null,
      "outputs": [
        {
          "output_type": "stream",
          "name": "stdout",
          "text": [
            "['r', 'a', 'a', 'n', 'r', 'a', 'a', 'n', 'r', 'n', 'r', 'a', 'a']\n"
          ]
        }
      ]
    },
    {
      "cell_type": "code",
      "source": [
        "# Findall function [a-n]\n",
        "import re\n",
        "text = \"Time is very much valuable in our life, each and every second is very much valuable\"\n",
        "x = re.findall(\"[a-n]\",text)\n",
        "print(x)"
      ],
      "metadata": {
        "colab": {
          "base_uri": "https://localhost:8080/"
        },
        "id": "tkZZJMqdNvzb",
        "outputId": "13a2fc0d-84bb-4fa6-c11a-ffd3505ea20c"
      },
      "execution_count": null,
      "outputs": [
        {
          "output_type": "stream",
          "name": "stdout",
          "text": [
            "['i', 'm', 'e', 'i', 'e', 'm', 'c', 'h', 'a', 'l', 'a', 'b', 'l', 'e', 'i', 'n', 'l', 'i', 'f', 'e', 'e', 'a', 'c', 'h', 'a', 'n', 'd', 'e', 'e', 'e', 'c', 'n', 'd', 'i', 'e', 'm', 'c', 'h', 'a', 'l', 'a', 'b', 'l', 'e']\n"
          ]
        }
      ]
    },
    {
      "cell_type": "code",
      "source": [
        "# Findall function [^arn]\n",
        "import re\n",
        "text = \"Time is very much valuable in our life, each and every second is very much valuable\"\n",
        "x = re.findall(\"[^arn]\",text)\n",
        "print(x)\n",
        "\n"
      ],
      "metadata": {
        "colab": {
          "base_uri": "https://localhost:8080/"
        },
        "id": "Zp1UR7dxODA6",
        "outputId": "e4d8d0a1-0b3c-4d86-96f6-b6c577e043e5"
      },
      "execution_count": null,
      "outputs": [
        {
          "output_type": "stream",
          "name": "stdout",
          "text": [
            "['T', 'i', 'm', 'e', ' ', 'i', 's', ' ', 'v', 'e', 'y', ' ', 'm', 'u', 'c', 'h', ' ', 'v', 'l', 'u', 'b', 'l', 'e', ' ', 'i', ' ', 'o', 'u', ' ', 'l', 'i', 'f', 'e', ',', ' ', 'e', 'c', 'h', ' ', 'd', ' ', 'e', 'v', 'e', 'y', ' ', 's', 'e', 'c', 'o', 'd', ' ', 'i', 's', ' ', 'v', 'e', 'y', ' ', 'm', 'u', 'c', 'h', ' ', 'v', 'l', 'u', 'b', 'l', 'e']\n"
          ]
        }
      ]
    },
    {
      "cell_type": "code",
      "source": [
        "# Findall function [0123] for not found\n",
        "import re\n",
        "text = \"Time is very much valuable in our life, each and every second is very much valuable\"\n",
        "x = re.findall(\"[0123]\",text)\n",
        "print(x)"
      ],
      "metadata": {
        "colab": {
          "base_uri": "https://localhost:8080/"
        },
        "id": "fwcMM26SOD5a",
        "outputId": "dcba748b-233d-435e-c758-c05d469b2d5a"
      },
      "execution_count": null,
      "outputs": [
        {
          "output_type": "stream",
          "name": "stdout",
          "text": [
            "[]\n"
          ]
        }
      ]
    },
    {
      "cell_type": "code",
      "source": [
        "# Findall function [0-9]\n",
        "import re\n",
        "text = \"10 times before 11:45 AM and cgpa is 10\"\n",
        "x = re.findall(\"[0-9]\",text)\n",
        "print(x)\n"
      ],
      "metadata": {
        "colab": {
          "base_uri": "https://localhost:8080/"
        },
        "id": "U9oyRv5sOEhq",
        "outputId": "2b8dcf89-26e9-4334-cc73-0a9e8bb57fd7"
      },
      "execution_count": null,
      "outputs": [
        {
          "output_type": "stream",
          "name": "stdout",
          "text": [
            "['1', '0', '1', '1', '4', '5', '1', '0']\n"
          ]
        }
      ]
    },
    {
      "cell_type": "code",
      "source": [
        "# Findall function [0-9]\n",
        "import re\n",
        "text = \"10 times before 11:45 AM and cgpa is 10\"\n",
        "x = re.findall(\"[0-5][0-9]\",text)\n",
        "print(x)\n"
      ],
      "metadata": {
        "colab": {
          "base_uri": "https://localhost:8080/"
        },
        "id": "WfQnqIkbOFnq",
        "outputId": "069dc316-6c6f-49f9-b089-8329715fb67e"
      },
      "execution_count": null,
      "outputs": [
        {
          "output_type": "stream",
          "name": "stdout",
          "text": [
            "['10', '11', '45', '10']\n"
          ]
        }
      ]
    },
    {
      "cell_type": "code",
      "source": [
        "# Findall function [0-5][0-9]\n",
        "import re\n",
        "text = \"10 times before 11:45 AM and cgpa is 10 and my score is 963 in in inter\"\n",
        "x = re.findall(\"[0-5][0-9]\",text)\n",
        "print(x)"
      ],
      "metadata": {
        "colab": {
          "base_uri": "https://localhost:8080/"
        },
        "id": "13a-lUX2PNSK",
        "outputId": "0ddef9fa-9694-4711-8616-14df7f2a291e"
      },
      "execution_count": null,
      "outputs": [
        {
          "output_type": "stream",
          "name": "stdout",
          "text": [
            "['10', '11', '45', '10']\n"
          ]
        }
      ]
    },
    {
      "cell_type": "code",
      "source": [
        "# Findall function [a-zA-Z]\n",
        "import re\n",
        "text = \"10 times before 11:45 AM and cgpa is 10\"\n",
        "x = re.findall(\"[a-zA-Z]\",text)\n",
        "print(x)"
      ],
      "metadata": {
        "colab": {
          "base_uri": "https://localhost:8080/"
        },
        "id": "HBjMJLF5PNnL",
        "outputId": "809c6f63-a3b9-49f1-9378-6ab6cc95eb6d"
      },
      "execution_count": null,
      "outputs": [
        {
          "output_type": "stream",
          "name": "stdout",
          "text": [
            "['t', 'i', 'm', 'e', 's', 'b', 'e', 'f', 'o', 'r', 'e', 'A', 'M', 'a', 'n', 'd', 'c', 'g', 'p', 'a', 'i', 's']\n"
          ]
        }
      ]
    },
    {
      "cell_type": "code",
      "source": [
        "# Findall function [+] for not found\n",
        "import re\n",
        "text = \"10 times before 11:45 AM and cgpa is 10\"\n",
        "x = re.findall(\"[+]\",text)\n",
        "print(x)\n"
      ],
      "metadata": {
        "colab": {
          "base_uri": "https://localhost:8080/"
        },
        "id": "eFIt6qaFPNxK",
        "outputId": "55f5c582-48aa-4d02-98e8-c48e0a986280"
      },
      "execution_count": null,
      "outputs": [
        {
          "output_type": "stream",
          "name": "stdout",
          "text": [
            "[]\n"
          ]
        }
      ]
    },
    {
      "cell_type": "code",
      "source": [
        "# The search() function\n",
        "import re\n",
        "text = \"Be smart and brave at any situation you face in this world\"\n",
        "x = re.search(\"\\s\", text)\n",
        "print(\"The first white-space character is located in position:\", x.start()) \n",
        "\n"
      ],
      "metadata": {
        "colab": {
          "base_uri": "https://localhost:8080/"
        },
        "id": "FviO84ptPQOK",
        "outputId": "6ee86e32-d8a7-4bb5-f9a8-8b5b51dca449"
      },
      "execution_count": null,
      "outputs": [
        {
          "output_type": "stream",
          "name": "stdout",
          "text": [
            "The first white-space character is located in position: 2\n"
          ]
        }
      ]
    },
    {
      "cell_type": "code",
      "source": [
        "# The split() Function \n",
        "import re\n",
        "text = \"Be smart and brave at any situation you face in this world\"\n",
        "x = re.split(\"\\s\", text)\n",
        "print(x)"
      ],
      "metadata": {
        "colab": {
          "base_uri": "https://localhost:8080/"
        },
        "id": "qEuUK9pVRS9K",
        "outputId": "9afbd920-3b58-4fca-b2f5-89b7ed12ac0f"
      },
      "execution_count": null,
      "outputs": [
        {
          "output_type": "stream",
          "name": "stdout",
          "text": [
            "['Be', 'smart', 'and', 'brave', 'at', 'any', 'situation', 'you', 'face', 'in', 'this', 'world']\n"
          ]
        }
      ]
    },
    {
      "cell_type": "code",
      "source": [
        "# The split() Function by numbering(occurences)\n",
        "import re\n",
        "text = \"Be smart and brave at any situation you face in this world\"\n",
        "x = re.split(\"\\s\", text, 7)\n",
        "print(x)"
      ],
      "metadata": {
        "colab": {
          "base_uri": "https://localhost:8080/"
        },
        "id": "qgXo8D7gR2vt",
        "outputId": "28ca3367-5647-43ff-c3b0-64be6c51415b"
      },
      "execution_count": null,
      "outputs": [
        {
          "output_type": "stream",
          "name": "stdout",
          "text": [
            "['Be', 'smart', 'and', 'brave', 'at', 'any', 'situation', 'you face in this world']\n"
          ]
        }
      ]
    },
    {
      "cell_type": "code",
      "source": [
        "# The sub() function\n",
        "import re\n",
        "text = \"Be smart and brave at any situation you face in this world\"\n",
        "x = re.sub(\"\\s\", \"10\", text)\n",
        "print(x)"
      ],
      "metadata": {
        "colab": {
          "base_uri": "https://localhost:8080/"
        },
        "id": "nN2hOcB-SAjS",
        "outputId": "37a7ebd5-8095-4ca7-fa15-5750e621d545"
      },
      "execution_count": null,
      "outputs": [
        {
          "output_type": "stream",
          "name": "stdout",
          "text": [
            "Be10smart10and10brave10at10any10situation10you10face10in10this10world\n"
          ]
        }
      ]
    },
    {
      "cell_type": "code",
      "source": [
        "# The sub() function (By replacing occurences)\n",
        "import re\n",
        "text = \"Be smart and brave at any situation you face in this world\"\n",
        "x = re.sub(\"\\s\", \"10\", text, 6)\n",
        "print(x)"
      ],
      "metadata": {
        "colab": {
          "base_uri": "https://localhost:8080/"
        },
        "id": "eZwV0saySguS",
        "outputId": "293e1798-79ea-4cdc-eea2-1d72c947df70"
      },
      "execution_count": null,
      "outputs": [
        {
          "output_type": "stream",
          "name": "stdout",
          "text": [
            "Be10smart10and10brave10at10any10situation you face in this world\n"
          ]
        }
      ]
    },
    {
      "cell_type": "code",
      "source": [
        "# Findall (\\d)\n",
        "import re\n",
        "text = \"Time is very much valuable in our life, each and every [0.1] second is very much valuable\"\n",
        "x = re.findall(\"\\d\",text)\n",
        "print(x)"
      ],
      "metadata": {
        "colab": {
          "base_uri": "https://localhost:8080/"
        },
        "id": "vcb4Y0wnTI0K",
        "outputId": "fbba3d3a-2f44-499f-a88e-eb87f90437bd"
      },
      "execution_count": null,
      "outputs": [
        {
          "output_type": "stream",
          "name": "stdout",
          "text": [
            "['0', '1']\n"
          ]
        }
      ]
    },
    {
      "cell_type": "code",
      "source": [
        "# Findall (he..o)\n",
        "import re\n",
        "text = \"Hello World! This is chitti, The robo boy\"\n",
        "x = re.findall(\"he..o\",text)\n",
        "print(x)"
      ],
      "metadata": {
        "colab": {
          "base_uri": "https://localhost:8080/"
        },
        "id": "9tieB87FUX-L",
        "outputId": "c77b84f4-1859-44c7-92f9-bcbfd1bb8613"
      },
      "execution_count": null,
      "outputs": [
        {
          "output_type": "stream",
          "name": "stdout",
          "text": [
            "['he ro']\n"
          ]
        }
      ]
    },
    {
      "cell_type": "code",
      "source": [
        "# Findall (^hello)\n",
        "import re\n",
        "text = \"Hello World! This is chitti, The robo boy\"\n",
        "x = re.findall(\"^Hello\",text)\n",
        "print(x)"
      ],
      "metadata": {
        "colab": {
          "base_uri": "https://localhost:8080/"
        },
        "id": "XqxWPOyDVOgy",
        "outputId": "9c6e9489-542b-4428-a66d-38bf4b9413a4"
      },
      "execution_count": null,
      "outputs": [
        {
          "output_type": "stream",
          "name": "stdout",
          "text": [
            "['Hello']\n"
          ]
        }
      ]
    },
    {
      "cell_type": "code",
      "source": [
        "# Findall (^hello)\n",
        "import re\n",
        "text = \"Hello planet! This is chitti, The robo boy\"\n",
        "x = re.findall(\"planet!$\",text)\n",
        "print(x)"
      ],
      "metadata": {
        "colab": {
          "base_uri": "https://localhost:8080/"
        },
        "id": "tTwGB_D_Vp3q",
        "outputId": "dd38e87e-b0fa-44d1-9433-e331323c2134"
      },
      "execution_count": null,
      "outputs": [
        {
          "output_type": "stream",
          "name": "stdout",
          "text": [
            "[]\n"
          ]
        }
      ]
    },
    {
      "cell_type": "code",
      "source": [
        "# Findall Zero or more occurrences\n",
        "import re\n",
        "text = \"Hello World! This is chitti, The robo boy\"\n",
        "x = re.findall(\"he.*o\",text)\n",
        "print(x)"
      ],
      "metadata": {
        "colab": {
          "base_uri": "https://localhost:8080/"
        },
        "id": "F9ESP1O7z6bJ",
        "outputId": "cafdd553-8d1d-4a0c-c964-43e0e0a4fc21"
      },
      "execution_count": null,
      "outputs": [
        {
          "output_type": "stream",
          "name": "stdout",
          "text": [
            "['he robo bo']\n"
          ]
        }
      ]
    },
    {
      "cell_type": "code",
      "source": [
        "# Findall One or more occurrences\n",
        "import re\n",
        "text = \"Hello World! This is chitti, The robo boy\"\n",
        "x = re.findall(\"he.+o\",text)\n",
        "print(x)"
      ],
      "metadata": {
        "colab": {
          "base_uri": "https://localhost:8080/"
        },
        "id": "KNhvhvA00xoY",
        "outputId": "64c97426-67c6-4445-bc74-7190edf8fff5"
      },
      "execution_count": null,
      "outputs": [
        {
          "output_type": "stream",
          "name": "stdout",
          "text": [
            "['he robo bo']\n"
          ]
        }
      ]
    },
    {
      "cell_type": "code",
      "source": [
        "# Findall Zero or one occurrences\n",
        "import re\n",
        "text = \"Hello World! This is chitti, The robo boy\"\n",
        "x = re.findall(\"he.?o\",text)\n",
        "print(x)"
      ],
      "metadata": {
        "colab": {
          "base_uri": "https://localhost:8080/"
        },
        "id": "GVhUhT1m1M-3",
        "outputId": "28f8bcf2-3ce3-4504-fcf2-b36f5b3dc4ad"
      },
      "execution_count": null,
      "outputs": [
        {
          "output_type": "stream",
          "name": "stdout",
          "text": [
            "[]\n"
          ]
        }
      ]
    },
    {
      "cell_type": "code",
      "source": [
        "# Findall Exactly the specified number of occurrences\n",
        "import re\n",
        "text = \"Hello World! This is chitti, The robo boy\"\n",
        "x = re.findall(\"he.{2}o\",text)\n",
        "print(x)"
      ],
      "metadata": {
        "colab": {
          "base_uri": "https://localhost:8080/"
        },
        "id": "UycjOvdp1dYf",
        "outputId": "05cd97aa-2b03-49b7-d1fd-e099e2d8806e"
      },
      "execution_count": null,
      "outputs": [
        {
          "output_type": "stream",
          "name": "stdout",
          "text": [
            "['he ro']\n"
          ]
        }
      ]
    },
    {
      "cell_type": "code",
      "source": [
        "# Findall Either or\n",
        "import re\n",
        "text = \"Hello World! This is chitti, The robo boy\"\n",
        "x = re.findall(\"falls|stays\",text)\n",
        "print(x)\n",
        "if x:\n",
        "  print(\"Yes, the players will win the game!\")\n",
        "else:\n",
        "  print(\"No game!\")\n"
      ],
      "metadata": {
        "colab": {
          "base_uri": "https://localhost:8080/"
        },
        "id": "lQj8YLSL1s2r",
        "outputId": "60e4db7d-dbb0-4884-f906-4e52cfb8b4eb"
      },
      "execution_count": null,
      "outputs": [
        {
          "output_type": "stream",
          "name": "stdout",
          "text": [
            "[]\n",
            "No game!\n"
          ]
        }
      ]
    },
    {
      "cell_type": "code",
      "source": [
        "# Findall Either or\n",
        "import re\n",
        "text = \"Hello World! This is chitti, The robo boy who falls every time due to not functioning properly\"\n",
        "x = re.findall(\"falls|stays\",text)\n",
        "print(x)\n",
        "if x:\n",
        "  print(\"Yes, the players will win the game!\")\n",
        "else:\n",
        "  print(\"No game!\")\n"
      ],
      "metadata": {
        "colab": {
          "base_uri": "https://localhost:8080/"
        },
        "id": "S3poDg7P2k1H",
        "outputId": "bd007e92-4c97-4a6b-8651-c0824cbbb7d3"
      },
      "execution_count": null,
      "outputs": [
        {
          "output_type": "stream",
          "name": "stdout",
          "text": [
            "['falls']\n",
            "Yes, the players will win the game!\n"
          ]
        }
      ]
    },
    {
      "cell_type": "code",
      "source": [
        "# SPECIAL SEQUENCES\n",
        "# Returns a match if the specified characters are at the beginning of the string\n",
        "import re\n",
        "\n",
        "txt = \"There was a thunderstorm in Vizag\"\n",
        "\n",
        "#Check if the string starts with \"The\":\n",
        "\n",
        "x = re.findall(\"\\AThe\", txt)\n",
        "\n",
        "print(x)\n",
        "\n",
        "if x:\n",
        "  print(\"Yes, there was a thunderstorm!\")\n",
        "else:\n",
        "  print(\"No thunderstorm\")\n"
      ],
      "metadata": {
        "colab": {
          "base_uri": "https://localhost:8080/"
        },
        "id": "3Lb9oLlQ2uYI",
        "outputId": "02ade13c-1ea5-48f8-eaa0-7bf852218af2"
      },
      "execution_count": null,
      "outputs": [
        {
          "output_type": "stream",
          "name": "stdout",
          "text": [
            "['The']\n",
            "Yes, there was a thunderstorm!\n"
          ]
        }
      ]
    },
    {
      "cell_type": "code",
      "source": [
        "# Returns a match where the specified characters are at the beginning or at the end of a word\n",
        "import re\n",
        "\n",
        "txt =\"There was a thunderstorm in Vizag\"\n",
        "\n",
        "#Check if \"ain\" is present at the beginning of a WORD:\n",
        "\n",
        "x = re.findall(r\"\\bain\", txt)\n",
        "\n",
        "print(x)\n",
        "\n",
        "if x:\n",
        "  print(\"Yes, there was a thunderstorm!\")\n",
        "else:\n",
        "  print(\"No thunderstorm\")\n"
      ],
      "metadata": {
        "colab": {
          "base_uri": "https://localhost:8080/"
        },
        "id": "6iBBmjAk3T0H",
        "outputId": "030625f2-224f-4af1-fdfc-74aafff303b0"
      },
      "execution_count": null,
      "outputs": [
        {
          "output_type": "stream",
          "name": "stdout",
          "text": [
            "[]\n",
            "No thunderstorm\n"
          ]
        }
      ]
    },
    {
      "cell_type": "code",
      "source": [
        "# Returns a match where the specified characters are at the beginning or at the end of a word\n",
        "import re\n",
        "\n",
        "txt =\"There was a thunderstorm in Vizag\"\n",
        "#Check if \"nder\" is present at the end of a WORD:\n",
        "\n",
        "x = re.findall(u\"nder\\b\", txt)\n",
        "\n",
        "print(x)\n",
        "\n",
        "if x:\n",
        "  print(\"Yes, there was a thunderstorm!\")\n",
        "else:\n",
        "  print(\"No thunderstorm\")\n"
      ],
      "metadata": {
        "colab": {
          "base_uri": "https://localhost:8080/"
        },
        "id": "YqytTY3b4jfu",
        "outputId": "eddfa93f-437b-4533-cf54-ef0405570787"
      },
      "execution_count": null,
      "outputs": [
        {
          "output_type": "stream",
          "name": "stdout",
          "text": [
            "[]\n",
            "No thunderstorm\n"
          ]
        }
      ]
    },
    {
      "cell_type": "code",
      "source": [
        "# Returns a match where the string contains digits (numbers from 0-9)\n",
        "import re\n",
        "txt =\"There was a thunderstorm in Vizag\"\n",
        "#Check if \"nder\" is present at the end of a WORD:\n",
        "\n",
        "x = re.findall(\"\\d\", txt)\n",
        "\n",
        "print(x)\n",
        "\n",
        "if x:\n",
        "  print(\"Yes, there was a thunderstorm!\")\n",
        "else:\n",
        "  print(\"No thunderstorm\")\n"
      ],
      "metadata": {
        "colab": {
          "base_uri": "https://localhost:8080/"
        },
        "id": "8DR5L7PF40tH",
        "outputId": "63abfc7b-ea54-4f43-f7b1-b1d33814eedc"
      },
      "execution_count": null,
      "outputs": [
        {
          "output_type": "stream",
          "name": "stdout",
          "text": [
            "[]\n",
            "No thunderstorm\n"
          ]
        }
      ]
    },
    {
      "cell_type": "code",
      "source": [
        "# Returns a match where the string DOES NOT contain digits\n",
        "import re\n",
        "txt =\"There was a thunderstorm in Vizag\"\n",
        "#Check if \"nder\" is present at the end of a WORD:\n",
        "\n",
        "x = re.findall(\"\\D\", txt)\n",
        "\n",
        "print(x)\n",
        "\n",
        "if x:\n",
        "  print(\"Yes, there was a thunderstorm!\")\n",
        "else:\n",
        "  print(\"No thunderstorm\")\n"
      ],
      "metadata": {
        "colab": {
          "base_uri": "https://localhost:8080/"
        },
        "id": "33sIEAY45nLO",
        "outputId": "b736b018-ce97-4f6e-ef13-2462486e9db1"
      },
      "execution_count": null,
      "outputs": [
        {
          "output_type": "stream",
          "name": "stdout",
          "text": [
            "['T', 'h', 'e', 'r', 'e', ' ', 'w', 'a', 's', ' ', 'a', ' ', 't', 'h', 'u', 'n', 'd', 'e', 'r', 's', 't', 'o', 'r', 'm', ' ', 'i', 'n', ' ', 'V', 'i', 'z', 'a', 'g']\n",
            "Yes, there was a thunderstorm!\n"
          ]
        }
      ]
    },
    {
      "cell_type": "code",
      "source": [
        "# Returns a match where the string contains a white space character\n",
        "import re\n",
        "txt =\"There was a thunderstorm in Vizag\"\n",
        "#Check if \"nder\" is present at the end of a WORD:\n",
        "\n",
        "x = re.findall(\"\\s\", txt)\n",
        "\n",
        "print(x)\n",
        "\n",
        "if x:\n",
        "  print(\"Yes, there was a thunderstorm!\")\n",
        "else:\n",
        "  print(\"No thunderstorm\")\n"
      ],
      "metadata": {
        "colab": {
          "base_uri": "https://localhost:8080/"
        },
        "id": "J45-TOqo5vAT",
        "outputId": "28ead6e5-ecae-419d-86ff-14545e2e0f53"
      },
      "execution_count": null,
      "outputs": [
        {
          "output_type": "stream",
          "name": "stdout",
          "text": [
            "[' ', ' ', ' ', ' ', ' ']\n",
            "Yes, there was a thunderstorm!\n"
          ]
        }
      ]
    },
    {
      "cell_type": "code",
      "source": [
        "# Returns a match where the string DOES NOT contain a white space character\n",
        "import re\n",
        "txt =\"There was a thunderstorm in Vizag\"\n",
        "#Check if \"nder\" is present at the end of a WORD:\n",
        "\n",
        "x = re.findall(\"\\S\", txt)\n",
        "\n",
        "print(x)\n",
        "\n",
        "if x:\n",
        "  print(\"Yes, there was a thunderstorm!\")\n",
        "else:\n",
        "  print(\"No thunderstorm\")\n"
      ],
      "metadata": {
        "colab": {
          "base_uri": "https://localhost:8080/"
        },
        "id": "K_KxBUFh565W",
        "outputId": "25d9cb4b-3d05-4ff2-a802-25cbe785f5a6"
      },
      "execution_count": null,
      "outputs": [
        {
          "output_type": "stream",
          "name": "stdout",
          "text": [
            "['T', 'h', 'e', 'r', 'e', 'w', 'a', 's', 'a', 't', 'h', 'u', 'n', 'd', 'e', 'r', 's', 't', 'o', 'r', 'm', 'i', 'n', 'V', 'i', 'z', 'a', 'g']\n",
            "Yes, there was a thunderstorm!\n"
          ]
        }
      ]
    },
    {
      "cell_type": "code",
      "source": [
        "# Returns a match where the string contains any word characters (characters from a to Z, digits from 0-9, and the underscore _ character)\n",
        "import re\n",
        "txt =\"There was a thunderstorm in Vizag\"\n",
        "#Check if \"nder\" is present at the end of a WORD:\n",
        "\n",
        "x = re.findall(\"\\w\", txt)\n",
        "\n",
        "print(x)\n",
        "\n",
        "if x:\n",
        "  print(\"Yes, there was a thunderstorm!\")\n",
        "else:\n",
        "  print(\"No thunderstorm\")"
      ],
      "metadata": {
        "colab": {
          "base_uri": "https://localhost:8080/"
        },
        "id": "c6yOpH9858sm",
        "outputId": "3e1829aa-6c12-4dec-ba62-037a25dbdb38"
      },
      "execution_count": null,
      "outputs": [
        {
          "output_type": "stream",
          "name": "stdout",
          "text": [
            "['T', 'h', 'e', 'r', 'e', 'w', 'a', 's', 'a', 't', 'h', 'u', 'n', 'd', 'e', 'r', 's', 't', 'o', 'r', 'm', 'i', 'n', 'V', 'i', 'z', 'a', 'g']\n",
            "Yes, there was a thunderstorm!\n"
          ]
        }
      ]
    },
    {
      "cell_type": "code",
      "source": [
        "# Returns a match where the string DOES NOT contain any word characters\n",
        "import re\n",
        "txt =\"There was a thunderstorm in Vizag\"\n",
        "#Check if \"nder\" is present at the end of a WORD:\n",
        "\n",
        "x = re.findall(\"\\W\", txt)\n",
        "\n",
        "print(x)\n",
        "\n",
        "if x:\n",
        "  print(\"Yes, there was a thunderstorm!\")\n",
        "else:\n",
        "  print(\"No thunderstorm\")"
      ],
      "metadata": {
        "colab": {
          "base_uri": "https://localhost:8080/"
        },
        "id": "s9fvtI5j6Qiw",
        "outputId": "4084d8f9-1b60-4232-cac5-ff27d281ed75"
      },
      "execution_count": null,
      "outputs": [
        {
          "output_type": "stream",
          "name": "stdout",
          "text": [
            "[' ', ' ', ' ', ' ', ' ']\n",
            "Yes, there was a thunderstorm!\n"
          ]
        }
      ]
    },
    {
      "cell_type": "code",
      "source": [
        "# Returns a match if the specified characters are at the end of the string\n",
        "import re\n",
        "\n",
        "txt = \"There was a thunderstorm in Vizag\"\n",
        "\n",
        "#Check if the string ends with \"Spain\":\n",
        "\n",
        "x = re.findall(\"Spain\\Z\", txt)\n",
        "\n",
        "print(x)\n",
        "\n",
        "if x:\n",
        "  print(\"Yes, there was a thunderstorm!\")\n",
        "else:\n",
        "  print(\"No thunderstorm\")\n"
      ],
      "metadata": {
        "id": "01dTXie-6cbG",
        "colab": {
          "base_uri": "https://localhost:8080/"
        },
        "outputId": "e84b38a9-7586-49eb-b4f5-bed21cafbca8"
      },
      "execution_count": 15,
      "outputs": [
        {
          "output_type": "stream",
          "name": "stdout",
          "text": [
            "[]\n",
            "No thunderstorm\n"
          ]
        }
      ]
    },
    {
      "cell_type": "code",
      "source": [
        "# Print the position (start- and end-position) of the first match occurrence.\n",
        "import re\n",
        "\n",
        "text = \"The rain in Spain\"\n",
        "\n",
        "x = re.search(r\"\\bS\\w+\", text)\n",
        "print(x.span())"
      ],
      "metadata": {
        "colab": {
          "base_uri": "https://localhost:8080/"
        },
        "id": "mOPK5rlOJI3y",
        "outputId": "484fe363-8978-4b74-abd7-be2428f44fc9"
      },
      "execution_count": 17,
      "outputs": [
        {
          "output_type": "stream",
          "name": "stdout",
          "text": [
            "(12, 17)\n"
          ]
        }
      ]
    },
    {
      "cell_type": "code",
      "source": [
        "# Print the string passed into the function:\n",
        "\n",
        "import re\n",
        "text = \"The rain in Spain\"\n",
        "x = re.search(r\"\\bS\\w+\", text)\n",
        "print(x.string)"
      ],
      "metadata": {
        "colab": {
          "base_uri": "https://localhost:8080/"
        },
        "id": "LVCOnHtEoXCm",
        "outputId": "a026638a-9a8e-44a1-c204-857fde28d7b9"
      },
      "execution_count": 7,
      "outputs": [
        {
          "output_type": "stream",
          "name": "stdout",
          "text": [
            "The rain in Spain\n"
          ]
        }
      ]
    },
    {
      "cell_type": "code",
      "source": [
        "# Print the part of the string where there was a match.\n",
        "\n",
        "# The regular expression looks for any words that starts with an upper case \"S\":\n",
        "\n",
        "import re\n",
        "txt = \"The rain in Spain\"\n",
        "x = re.search(r\"\\bS\\w+\", txt)\n",
        "print(x.group())\n"
      ],
      "metadata": {
        "colab": {
          "base_uri": "https://localhost:8080/"
        },
        "id": "-t6n3SIAo0Fs",
        "outputId": "e3710cc7-3db5-4ca6-c38c-e6851713765f"
      },
      "execution_count": 11,
      "outputs": [
        {
          "output_type": "stream",
          "name": "stdout",
          "text": [
            "Spain\n"
          ]
        }
      ]
    }
  ]
}